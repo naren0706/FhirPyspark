{
  "nbformat": 4,
  "nbformat_minor": 0,
  "metadata": {
    "colab": {
      "provenance": [],
      "authorship_tag": "ABX9TyNryzdGVEBH8azEOGh5+ylX",
      "include_colab_link": true
    },
    "kernelspec": {
      "name": "python3",
      "display_name": "Python 3"
    },
    "language_info": {
      "name": "python"
    }
  },
  "cells": [
    {
      "cell_type": "markdown",
      "metadata": {
        "id": "view-in-github",
        "colab_type": "text"
      },
      "source": [
        "<a href=\"https://colab.research.google.com/github/naren0706/FhirPyspark/blob/main/FHIR_PYSpark.ipynb\" target=\"_parent\"><img src=\"https://colab.research.google.com/assets/colab-badge.svg\" alt=\"Open In Colab\"/></a>"
      ]
    },
    {
      "cell_type": "code",
      "execution_count": null,
      "metadata": {
        "colab": {
          "base_uri": "https://localhost:8080/"
        },
        "id": "oiIP6qS3S5ZO",
        "outputId": "1421c4ed-6b7a-4507-b978-2892422aa8a1"
      },
      "outputs": [
        {
          "output_type": "stream",
          "name": "stdout",
          "text": [
            "/bin/bash: line 1: app-get: command not found\n",
            "sample_data\t\t   spark-3.1.1-bin-hadoop3.2.tgz    spark-3.1.1-bin-hadoop3.2.tgz.2\n",
            "spark-3.1.1-bin-hadoop3.2  spark-3.1.1-bin-hadoop3.2.tgz.1\n"
          ]
        }
      ],
      "source": [
        "!app-get update\n",
        "!apt-get install openjdk-8-jdk-headless -qq > /dev/null\n",
        "!wget -q http://archive.apache.org/dist/spark/spark-3.1.1/spark-3.1.1-bin-hadoop3.2.tgz\n",
        "!tar xf spark-3.1.1-bin-hadoop3.2.tgz\n",
        "!pip install -q findspark\n",
        "\n",
        "import os\n",
        "os.environ[\"JAVA_HOME\"] = \"/usr/lib/jvm/java-8-openjdk-amd64\"\n",
        "os.environ[\"SPARK_HOME\"] = \"/content/spark-3.1.1-bin-hadoop3.2\"\n",
        "\n",
        "!ls\n",
        "\n",
        "import findspark\n",
        "findspark.init()"
      ]
    },
    {
      "cell_type": "code",
      "source": [
        "!pip install pyspark"
      ],
      "metadata": {
        "colab": {
          "base_uri": "https://localhost:8080/"
        },
        "id": "zd6tJC6zTGvv",
        "outputId": "4513fd08-f3f6-40ce-a3cd-0d81f9d00da8"
      },
      "execution_count": null,
      "outputs": [
        {
          "output_type": "stream",
          "name": "stdout",
          "text": [
            "Requirement already satisfied: pyspark in /usr/local/lib/python3.10/dist-packages (3.5.0)\n",
            "Requirement already satisfied: py4j==0.10.9.7 in /usr/local/lib/python3.10/dist-packages (from pyspark) (0.10.9.7)\n"
          ]
        }
      ]
    },
    {
      "cell_type": "code",
      "source": [
        "import pyspark\n",
        "from pyspark.sql import SparkSession\n",
        "spark = SparkSession.builder.appName(\"local[*]\").getOrCreate()\n",
        "spark"
      ],
      "metadata": {
        "colab": {
          "base_uri": "https://localhost:8080/",
          "height": 219
        },
        "id": "JrsPxz2bTJmS",
        "outputId": "dfa422fc-0803-490d-e925-8298295ccd43"
      },
      "execution_count": null,
      "outputs": [
        {
          "output_type": "execute_result",
          "data": {
            "text/plain": [
              "<pyspark.sql.session.SparkSession at 0x7d94e02810f0>"
            ],
            "text/html": [
              "\n",
              "            <div>\n",
              "                <p><b>SparkSession - in-memory</b></p>\n",
              "                \n",
              "        <div>\n",
              "            <p><b>SparkContext</b></p>\n",
              "\n",
              "            <p><a href=\"http://3ee48744a573:4040\">Spark UI</a></p>\n",
              "\n",
              "            <dl>\n",
              "              <dt>Version</dt>\n",
              "                <dd><code>v3.1.1</code></dd>\n",
              "              <dt>Master</dt>\n",
              "                <dd><code>local[*]</code></dd>\n",
              "              <dt>AppName</dt>\n",
              "                <dd><code>local[*]</code></dd>\n",
              "            </dl>\n",
              "        </div>\n",
              "        \n",
              "            </div>\n",
              "        "
            ]
          },
          "metadata": {},
          "execution_count": 138
        }
      ]
    },
    {
      "cell_type": "code",
      "source": [
        "df = spark.read.json(\"/FhirJson.json\", multiLine=True)"
      ],
      "metadata": {
        "id": "QX-2Q88z_o6t"
      },
      "execution_count": null,
      "outputs": []
    },
    {
      "cell_type": "code",
      "source": [
        "df.show()"
      ],
      "metadata": {
        "colab": {
          "base_uri": "https://localhost:8080/"
        },
        "id": "3oMFBHMv_um5",
        "outputId": "26d799bf-8f12-46ca-b268-1b183acf7e52"
      },
      "execution_count": null,
      "outputs": [
        {
          "output_type": "stream",
          "name": "stdout",
          "text": [
            "+--------------------+------+--------------------+----------+--------------------+---------------+------+-------+--------------------+--------------------+--------------------+------------+--------------------+--------------------+\n",
            "|          _birthDate|active|             address| birthDate|             contact|deceasedBoolean|gender|     id|          identifier|managingOrganization|                name|resourceType|             telecom|                text|\n",
            "+--------------------+------+--------------------+----------+--------------------+---------------+------+-------+--------------------+--------------------+--------------------+------------+--------------------+--------------------+\n",
            "|{[{http://hl7.org...|  true|[{PleasantVille, ...|1974-12-25|[{{PleasantVille,...|          false|  male|example|[{{Acme Healthcar...|    {Organization/1}|[{Chalmers, [Pete...|     Patient|[{null, null, nul...|{<div xmlns=\"http...|\n",
            "+--------------------+------+--------------------+----------+--------------------+---------------+------+-------+--------------------+--------------------+--------------------+------------+--------------------+--------------------+\n",
            "\n"
          ]
        }
      ]
    },
    {
      "cell_type": "code",
      "source": [
        "df.printSchema()"
      ],
      "metadata": {
        "colab": {
          "base_uri": "https://localhost:8080/"
        },
        "id": "L-eL0z4F_18k",
        "outputId": "e2dda943-28fa-4835-9ef3-66c33afe239e"
      },
      "execution_count": null,
      "outputs": [
        {
          "output_type": "stream",
          "name": "stdout",
          "text": [
            "root\n",
            " |-- _birthDate: struct (nullable = true)\n",
            " |    |-- extension: array (nullable = true)\n",
            " |    |    |-- element: struct (containsNull = true)\n",
            " |    |    |    |-- url: string (nullable = true)\n",
            " |    |    |    |-- valueDateTime: string (nullable = true)\n",
            " |-- active: boolean (nullable = true)\n",
            " |-- address: array (nullable = true)\n",
            " |    |-- element: struct (containsNull = true)\n",
            " |    |    |-- city: string (nullable = true)\n",
            " |    |    |-- district: string (nullable = true)\n",
            " |    |    |-- line: array (nullable = true)\n",
            " |    |    |    |-- element: string (containsNull = true)\n",
            " |    |    |-- period: struct (nullable = true)\n",
            " |    |    |    |-- start: string (nullable = true)\n",
            " |    |    |-- postalCode: string (nullable = true)\n",
            " |    |    |-- state: string (nullable = true)\n",
            " |    |    |-- text: string (nullable = true)\n",
            " |    |    |-- type: string (nullable = true)\n",
            " |    |    |-- use: string (nullable = true)\n",
            " |-- birthDate: string (nullable = true)\n",
            " |-- contact: array (nullable = true)\n",
            " |    |-- element: struct (containsNull = true)\n",
            " |    |    |-- address: struct (nullable = true)\n",
            " |    |    |    |-- city: string (nullable = true)\n",
            " |    |    |    |-- district: string (nullable = true)\n",
            " |    |    |    |-- line: array (nullable = true)\n",
            " |    |    |    |    |-- element: string (containsNull = true)\n",
            " |    |    |    |-- period: struct (nullable = true)\n",
            " |    |    |    |    |-- start: string (nullable = true)\n",
            " |    |    |    |-- postalCode: string (nullable = true)\n",
            " |    |    |    |-- state: string (nullable = true)\n",
            " |    |    |    |-- type: string (nullable = true)\n",
            " |    |    |    |-- use: string (nullable = true)\n",
            " |    |    |-- gender: string (nullable = true)\n",
            " |    |    |-- name: struct (nullable = true)\n",
            " |    |    |    |-- _family: struct (nullable = true)\n",
            " |    |    |    |    |-- extension: array (nullable = true)\n",
            " |    |    |    |    |    |-- element: struct (containsNull = true)\n",
            " |    |    |    |    |    |    |-- url: string (nullable = true)\n",
            " |    |    |    |    |    |    |-- valueString: string (nullable = true)\n",
            " |    |    |    |-- family: string (nullable = true)\n",
            " |    |    |    |-- given: array (nullable = true)\n",
            " |    |    |    |    |-- element: string (containsNull = true)\n",
            " |    |    |-- period: struct (nullable = true)\n",
            " |    |    |    |-- start: string (nullable = true)\n",
            " |    |    |-- relationship: array (nullable = true)\n",
            " |    |    |    |-- element: struct (containsNull = true)\n",
            " |    |    |    |    |-- coding: array (nullable = true)\n",
            " |    |    |    |    |    |-- element: struct (containsNull = true)\n",
            " |    |    |    |    |    |    |-- code: string (nullable = true)\n",
            " |    |    |    |    |    |    |-- system: string (nullable = true)\n",
            " |    |    |-- telecom: array (nullable = true)\n",
            " |    |    |    |-- element: struct (containsNull = true)\n",
            " |    |    |    |    |-- system: string (nullable = true)\n",
            " |    |    |    |    |-- value: string (nullable = true)\n",
            " |-- deceasedBoolean: boolean (nullable = true)\n",
            " |-- gender: string (nullable = true)\n",
            " |-- id: string (nullable = true)\n",
            " |-- identifier: array (nullable = true)\n",
            " |    |-- element: struct (containsNull = true)\n",
            " |    |    |-- assigner: struct (nullable = true)\n",
            " |    |    |    |-- display: string (nullable = true)\n",
            " |    |    |-- period: struct (nullable = true)\n",
            " |    |    |    |-- start: string (nullable = true)\n",
            " |    |    |-- system: string (nullable = true)\n",
            " |    |    |-- type: struct (nullable = true)\n",
            " |    |    |    |-- coding: array (nullable = true)\n",
            " |    |    |    |    |-- element: struct (containsNull = true)\n",
            " |    |    |    |    |    |-- code: string (nullable = true)\n",
            " |    |    |    |    |    |-- system: string (nullable = true)\n",
            " |    |    |-- use: string (nullable = true)\n",
            " |    |    |-- value: string (nullable = true)\n",
            " |-- managingOrganization: struct (nullable = true)\n",
            " |    |-- reference: string (nullable = true)\n",
            " |-- name: array (nullable = true)\n",
            " |    |-- element: struct (containsNull = true)\n",
            " |    |    |-- family: string (nullable = true)\n",
            " |    |    |-- given: array (nullable = true)\n",
            " |    |    |    |-- element: string (containsNull = true)\n",
            " |    |    |-- period: struct (nullable = true)\n",
            " |    |    |    |-- end: string (nullable = true)\n",
            " |    |    |-- use: string (nullable = true)\n",
            " |-- resourceType: string (nullable = true)\n",
            " |-- telecom: array (nullable = true)\n",
            " |    |-- element: struct (containsNull = true)\n",
            " |    |    |-- period: struct (nullable = true)\n",
            " |    |    |    |-- end: string (nullable = true)\n",
            " |    |    |-- rank: long (nullable = true)\n",
            " |    |    |-- system: string (nullable = true)\n",
            " |    |    |-- use: string (nullable = true)\n",
            " |    |    |-- value: string (nullable = true)\n",
            " |-- text: struct (nullable = true)\n",
            " |    |-- div: string (nullable = true)\n",
            " |    |-- status: string (nullable = true)\n",
            "\n"
          ]
        }
      ]
    },
    {
      "cell_type": "code",
      "source": [
        "df.show(truncate=False)"
      ],
      "metadata": {
        "colab": {
          "base_uri": "https://localhost:8080/"
        },
        "id": "VkW-LchnAP9I",
        "outputId": "4ba98832-a539-4f46-f8ec-09f8366e21ed"
      },
      "execution_count": null,
      "outputs": [
        {
          "output_type": "stream",
          "name": "stdout",
          "text": [
            "+------------------------------------------------------------------------------------------+------+----------------------------------------------------------------------------------------------------------------------------------+----------+--------------------------------------------------------------------------------------------------------------------------------------------------------------------------------------------------------------------------------------------------------------------------------------------+---------------+------+-------+------------------------------------------------------------------------------------------------------------------------------------------+--------------------+-------------------------------------------------------------------------------------------------------------------+------------+--------------------------------------------------------------------------------------------------------------------------------------------------------------+-------------------------------------------------------------------------------------------------------------------------------------------------------------------------------------------------------------------------------------------------------------------------------------------------------------------------------------------------------------------------------------------------------------------------------------------------------------------------------------------------------------------------------------------------------------------------------------------------------------------------------------------------------------------------------------------------------------------------------------------------------------------------------------------------------------------------------------------------------------------------------------------------------------------------------------------------------------------------------------------------------------------------------------------------------------------------------------------------------------------------------------------------------------------------------------------------------------------------------------------------------------------------------------------------------------------------------------------------------------------------------------------------------------------------------------------------------------------------------------------------------------------------------------------------------------------------------------------------------------------------------------------------------+\n",
            "|_birthDate                                                                                |active|address                                                                                                                           |birthDate |contact                                                                                                                                                                                                                                                                                     |deceasedBoolean|gender|id     |identifier                                                                                                                                |managingOrganization|name                                                                                                               |resourceType|telecom                                                                                                                                                       |text                                                                                                                                                                                                                                                                                                                                                                                                                                                                                                                                                                                                                                                                                                                                                                                                                                                                                                                                                                                                                                                                                                                                                                                                                                                                                                                                                                                                                                                                                                                                                                                                                                                   |\n",
            "+------------------------------------------------------------------------------------------+------+----------------------------------------------------------------------------------------------------------------------------------+----------+--------------------------------------------------------------------------------------------------------------------------------------------------------------------------------------------------------------------------------------------------------------------------------------------+---------------+------+-------+------------------------------------------------------------------------------------------------------------------------------------------+--------------------+-------------------------------------------------------------------------------------------------------------------+------------+--------------------------------------------------------------------------------------------------------------------------------------------------------------+-------------------------------------------------------------------------------------------------------------------------------------------------------------------------------------------------------------------------------------------------------------------------------------------------------------------------------------------------------------------------------------------------------------------------------------------------------------------------------------------------------------------------------------------------------------------------------------------------------------------------------------------------------------------------------------------------------------------------------------------------------------------------------------------------------------------------------------------------------------------------------------------------------------------------------------------------------------------------------------------------------------------------------------------------------------------------------------------------------------------------------------------------------------------------------------------------------------------------------------------------------------------------------------------------------------------------------------------------------------------------------------------------------------------------------------------------------------------------------------------------------------------------------------------------------------------------------------------------------------------------------------------------------+\n",
            "|{[{http://hl7.org/fhir/StructureDefinition/patient-birthTime, 1974-12-25T14:35:45-05:00}]}|true  |[{PleasantVille, Rainbow, [534 Erewhon St], {1974-12-25}, 3999, Vic, 534 Erewhon St PeasantVille, Rainbow, Vic  3999, both, home}]|1974-12-25|[{{PleasantVille, Rainbow, [534 Erewhon St], {1974-12-25}, 3999, Vic, both, home}, female, {{[{http://hl7.org/fhir/StructureDefinition/humanname-own-prefix, VV}]}, du Marché, [Bénédicte]}, {2012}, [{[{N, http://terminology.hl7.org/CodeSystem/v2-0131}]}], [{phone, +33 (237) 998327}]}]|false          |male  |example|[{{Acme Healthcare}, {2001-05-06}, urn:oid:1.2.36.146.595.217.0.1, {[{MR, http://terminology.hl7.org/CodeSystem/v2-0203}]}, usual, 12345}]|{Organization/1}    |[{Chalmers, [Peter, James], null, official}, {null, [Jim], null, usual}, {Windsor, [Peter, James], {2002}, maiden}]|Patient     |[{null, null, null, home, null}, {null, 1, phone, work, (03) 5555 6473}, {null, 2, phone, mobile, (03) 3410 5613}, {{2014}, null, phone, old, (03) 5555 8834}]|{<div xmlns=\"http://www.w3.org/1999/xhtml\"><p style=\"border: 1px #661aff solid; background-color: #e6e6ff; padding: 10px;\"><b>Jim </b> male, DoB: 1974-12-25 ( Medical record number: 12345 (use: USUAL, period: 2001-05-06 --&gt; (ongoing)))</p><hr/><table class=\"grid\"><tr><td style=\"background-color: #f3f5da\" title=\"Record is active\">Active:</td><td>true</td><td style=\"background-color: #f3f5da\" title=\"Known status of Patient\">Deceased:</td><td colspan=\"3\">false</td></tr><tr><td style=\"background-color: #f3f5da\" title=\"Alternate names (see the one above)\">Alt Names:</td><td colspan=\"3\"><ul><li>Peter James Chalmers (OFFICIAL)</li><li>Peter James Windsor (MAIDEN)</li></ul></td></tr><tr><td style=\"background-color: #f3f5da\" title=\"Ways to contact the Patient\">Contact Details:</td><td colspan=\"3\"><ul><li>-unknown-(HOME)</li><li>ph: (03) 5555 6473(WORK)</li><li>ph: (03) 3410 5613(MOBILE)</li><li>ph: (03) 5555 8834(OLD)</li><li>534 Erewhon St PeasantVille, Rainbow, Vic  3999(HOME)</li></ul></td></tr><tr><td style=\"background-color: #f3f5da\" title=\"Nominated Contact: Next-of-Kin\">Next-of-Kin:</td><td colspan=\"3\"><ul><li>Bénédicte du Marché  (female)</li><li>534 Erewhon St PleasantVille Vic 3999 (HOME)</li><li><a href=\"tel:+33(237)998327\">+33 (237) 998327</a></li><li>Valid Period: 2012 --&gt; (ongoing)</li></ul></td></tr><tr><td style=\"background-color: #f3f5da\" title=\"Patient Links\">Links:</td><td colspan=\"3\"><ul><li>Managing Organization: <a href=\"organization-example-gastro.html\">Organization/1</a> &quot;Gastroenterology&quot;</li></ul></td></tr></table></div>, generated}|\n",
            "+------------------------------------------------------------------------------------------+------+----------------------------------------------------------------------------------------------------------------------------------+----------+--------------------------------------------------------------------------------------------------------------------------------------------------------------------------------------------------------------------------------------------------------------------------------------------+---------------+------+-------+------------------------------------------------------------------------------------------------------------------------------------------+--------------------+-------------------------------------------------------------------------------------------------------------------+------------+--------------------------------------------------------------------------------------------------------------------------------------------------------------+-------------------------------------------------------------------------------------------------------------------------------------------------------------------------------------------------------------------------------------------------------------------------------------------------------------------------------------------------------------------------------------------------------------------------------------------------------------------------------------------------------------------------------------------------------------------------------------------------------------------------------------------------------------------------------------------------------------------------------------------------------------------------------------------------------------------------------------------------------------------------------------------------------------------------------------------------------------------------------------------------------------------------------------------------------------------------------------------------------------------------------------------------------------------------------------------------------------------------------------------------------------------------------------------------------------------------------------------------------------------------------------------------------------------------------------------------------------------------------------------------------------------------------------------------------------------------------------------------------------------------------------------------------+\n",
            "\n"
          ]
        }
      ]
    },
    {
      "cell_type": "code",
      "source": [
        "address_values = df.select(\"address\").collect()\n",
        "for row in address_values:\n",
        "    print(row.address)"
      ],
      "metadata": {
        "colab": {
          "base_uri": "https://localhost:8080/"
        },
        "id": "3MrC15MfBKBG",
        "outputId": "8570af80-848c-4715-900e-111f0db0c766"
      },
      "execution_count": null,
      "outputs": [
        {
          "output_type": "stream",
          "name": "stdout",
          "text": [
            "[Row(city='PleasantVille', district='Rainbow', line=['534 Erewhon St'], period=Row(start='1974-12-25'), postalCode='3999', state='Vic', text='534 Erewhon St PeasantVille, Rainbow, Vic  3999', type='both', use='home')]\n"
          ]
        }
      ]
    },
    {
      "cell_type": "code",
      "source": [
        "postal_code_values = df.select(\"address\").collect()\n",
        "for row in postal_code_values:\n",
        "    print(row)"
      ],
      "metadata": {
        "colab": {
          "base_uri": "https://localhost:8080/"
        },
        "id": "d1jRl0_ZC1Vc",
        "outputId": "cc716771-6a99-4450-ae0c-8cfefe59aa76"
      },
      "execution_count": null,
      "outputs": [
        {
          "output_type": "stream",
          "name": "stdout",
          "text": [
            "Row(address=[Row(city='PleasantVille', district='Rainbow', line=['534 Erewhon St'], period=Row(start='1974-12-25'), postalCode='3999', state='Vic', text='534 Erewhon St PeasantVille, Rainbow, Vic  3999', type='both', use='home')])\n"
          ]
        }
      ]
    },
    {
      "cell_type": "code",
      "source": [
        "postal_code_values = df.select(\"address\")\n",
        "# postal_code_values\n",
        "row_dict=postal_code_values.collect()[0].address[0].asDict()\n",
        "all_keys = row_dict.keys()\n",
        "print(all_keys)"
      ],
      "metadata": {
        "colab": {
          "base_uri": "https://localhost:8080/"
        },
        "id": "IG6lJVXdKO5y",
        "outputId": "99dd7158-a176-4386-f925-bc0f46262dbd"
      },
      "execution_count": null,
      "outputs": [
        {
          "output_type": "stream",
          "name": "stdout",
          "text": [
            "dict_keys(['city', 'district', 'line', 'period', 'postalCode', 'state', 'text', 'type', 'use'])\n"
          ]
        }
      ]
    },
    {
      "cell_type": "code",
      "source": [
        "spark.stop()"
      ],
      "metadata": {
        "id": "pX6zau3UTS63"
      },
      "execution_count": null,
      "outputs": []
    }
  ]
}